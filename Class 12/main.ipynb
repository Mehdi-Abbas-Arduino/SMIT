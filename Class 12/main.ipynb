{
 "cells": [
  {
   "cell_type": "markdown",
   "metadata": {},
   "source": [
    "# Abstraction \n",
    " - Hiding all the complexities of code \n",
    " - Discarding unesseceary information \n",
    " - class method contain one or more class called abstract class \n",
    " - can be inherit by subclass \n",
    " - A blueprint \n",
    " - `NOTE : Python provides abc module to abstarct class in python` "
   ]
  },
  {
   "cell_type": "code",
   "execution_count": 1,
   "metadata": {},
   "outputs": [],
   "source": [
    "class shapes():\n",
    "\n",
    "    # abstract Method\n",
    "    def sides(self):\n",
    "        pass\n",
    "    \n"
   ]
  },
  {
   "cell_type": "code",
   "execution_count": 2,
   "metadata": {},
   "outputs": [],
   "source": [
    "class triangle(shapes):\n",
    "    def sides (self):\n",
    "        print(\"Triangles has 3 sides \")"
   ]
  },
  {
   "cell_type": "code",
   "execution_count": 3,
   "metadata": {},
   "outputs": [],
   "source": [
    "Triangle = triangle()"
   ]
  },
  {
   "cell_type": "code",
   "execution_count": 17,
   "metadata": {},
   "outputs": [],
   "source": [
    "class squares(shapes):\n",
    "    def sides(self):\n",
    "        print(\"Square has four sides\")"
   ]
  },
  {
   "cell_type": "code",
   "execution_count": 19,
   "metadata": {},
   "outputs": [
    {
     "name": "stdout",
     "output_type": "stream",
     "text": [
      "Square has four sides\n"
     ]
    }
   ],
   "source": [
    "s = squares()\n",
    "s.sides()"
   ]
  },
  {
   "cell_type": "markdown",
   "metadata": {},
   "source": [
    "# Method Overloading\n",
    " - let your method know how will you act in different scenarios "
   ]
  },
  {
   "cell_type": "code",
   "execution_count": 16,
   "metadata": {},
   "outputs": [
    {
     "name": "stdout",
     "output_type": "stream",
     "text": [
      "3\n",
      "4.0\n",
      "Hello, world!\n"
     ]
    }
   ],
   "source": [
    "from typing import overload\n",
    "\n",
    "class Adder:\n",
    "    @overload\n",
    "    def add(self, x: int, y: int) -> int:\n",
    "        ...\n",
    "        \n",
    "    @overload\n",
    "    def add(self, x: float, y: float) -> float:\n",
    "        ...\n",
    "        \n",
    "    @overload\n",
    "    def add(self, x: str, y: str) -> str:\n",
    "        ...\n",
    "        \n",
    "    \n",
    "    def add(self, x, y):\n",
    "        if isinstance(x, int) and isinstance(y, int):\n",
    "            return x + y\n",
    "        elif isinstance(x, float) and isinstance(y, float):\n",
    "            return x + y\n",
    "        elif isinstance(x, str) and isinstance(y, str):\n",
    "            return x + y\n",
    "        else:\n",
    "            raise TypeError(\"Invalid argument types!\")\n",
    "\n",
    "# Usage examples\n",
    "adder = Adder()\n",
    "result1 = adder.add(1, 2)  # Should return 3\n",
    "result2 = adder.add(1.5, 2.5)  # Should return 4.0\n",
    "result3 = adder.add(\"Hello, \", \"world!\")  # Should return \"Hello, world!\"\n",
    "\n",
    "# Overridding & polymorphism\n",
    "print(result1)\n",
    "print(result2)\n",
    "print(result3)"
   ]
  },
  {
   "cell_type": "markdown",
   "metadata": {},
   "source": [
    "# Overriding\n",
    " - getting the last updated method or attribute"
   ]
  },
  {
   "cell_type": "code",
   "execution_count": 20,
   "metadata": {},
   "outputs": [],
   "source": [
    "class Animal():\n",
    "    def eating(self,food):\n",
    "        print(f\"Animal is eating {food}\")\n",
    "    \n",
    "class Bird():\n",
    "    def eating(self,food):\n",
    "        print(f\"Bird is eating {food}\")"
   ]
  },
  {
   "cell_type": "code",
   "execution_count": 22,
   "metadata": {},
   "outputs": [],
   "source": [
    "bird = Bird() # child -> parents"
   ]
  },
  {
   "cell_type": "code",
   "execution_count": 23,
   "metadata": {},
   "outputs": [
    {
     "name": "stdout",
     "output_type": "stream",
     "text": [
      "Bird is eating allu\n"
     ]
    }
   ],
   "source": [
    "bird.eating('allu')"
   ]
  },
  {
   "cell_type": "markdown",
   "metadata": {},
   "source": [
    "# POLYMORPHISM\n",
    " `- The ability of different classes to respond to the same message (method call) in different ways.  This allows for code to work with objects of various classes as if they were objects of a common superclass.`"
   ]
  },
  {
   "cell_type": "code",
   "execution_count": 24,
   "metadata": {},
   "outputs": [
    {
     "name": "stdout",
     "output_type": "stream",
     "text": [
      "Animal is eating grass\n"
     ]
    }
   ],
   "source": [
    "animal = Animal()\n",
    "animal.eating(\"grass\")"
   ]
  },
  {
   "cell_type": "code",
   "execution_count": 25,
   "metadata": {},
   "outputs": [],
   "source": [
    "# Abstraction\n",
    "class payment():\n",
    "    def payment_method(self):\n",
    "        pass"
   ]
  },
  {
   "cell_type": "code",
   "execution_count": 26,
   "metadata": {},
   "outputs": [],
   "source": [
    "class Credit_Card_Payment(payment):\n",
    "    def payment_method(self):\n",
    "        print(\"Account has been credited\")"
   ]
  },
  {
   "cell_type": "code",
   "execution_count": 27,
   "metadata": {},
   "outputs": [],
   "source": [
    "class Debit_Card_Payment(payment):\n",
    "    def payment_method(self):\n",
    "        print(\"Account has been debited\")"
   ]
  },
  {
   "cell_type": "code",
   "execution_count": 28,
   "metadata": {},
   "outputs": [],
   "source": [
    "c = Credit_Card_Payment()"
   ]
  },
  {
   "cell_type": "code",
   "execution_count": 29,
   "metadata": {},
   "outputs": [],
   "source": [
    "d = Debit_Card_Payment()"
   ]
  },
  {
   "cell_type": "code",
   "execution_count": 30,
   "metadata": {},
   "outputs": [
    {
     "name": "stdout",
     "output_type": "stream",
     "text": [
      "Account has been credited\n"
     ]
    }
   ],
   "source": [
    "c.payment_method()"
   ]
  },
  {
   "cell_type": "code",
   "execution_count": 31,
   "metadata": {},
   "outputs": [
    {
     "name": "stdout",
     "output_type": "stream",
     "text": [
      "Account has been debited\n"
     ]
    }
   ],
   "source": [
    "d.payment_method()"
   ]
  },
  {
   "cell_type": "code",
   "execution_count": 33,
   "metadata": {},
   "outputs": [],
   "source": [
    "from typing import overload\n",
    "class Multiply():\n",
    "    @overload\n",
    "    def mul(self,a:int) -> int:\n",
    "        ...\n",
    "    @overload\n",
    "    def mul (self,a:float) -> float:\n",
    "        ...\n",
    "    @overload\n",
    "    def mul(self,a:str) ->str:\n",
    "        ...\n",
    "    \n",
    "    def mul(self,a):\n",
    "        if isinstance(a,int):\n",
    "            return (a*2)\n",
    "        elif isinstance(a,float):\n",
    "            return(a*2)\n",
    "        elif isinstance(a,str):\n",
    "            return (a*2)\n",
    "        else:\n",
    "            raise TypeError(\"Invalid Answer\")"
   ]
  },
  {
   "cell_type": "code",
   "execution_count": 34,
   "metadata": {},
   "outputs": [],
   "source": [
    "b = Multiply()"
   ]
  },
  {
   "cell_type": "code",
   "execution_count": 37,
   "metadata": {},
   "outputs": [
    {
     "data": {
      "text/plain": [
       "15.0"
      ]
     },
     "execution_count": 37,
     "metadata": {},
     "output_type": "execute_result"
    }
   ],
   "source": [
    "b.mul(7.5)"
   ]
  },
  {
   "cell_type": "code",
   "execution_count": 38,
   "metadata": {},
   "outputs": [],
   "source": [
    "class Mehdi:\n",
    "    def favsport(self,sport):\n",
    "        print(f\"Your favourite sport is {sport}\")\n",
    "\n",
    "class Abbas:\n",
    "    def favsport(self,sport):\n",
    "        print(f\"Your favourite sports is {sport}\")\n",
    "\n"
   ]
  },
  {
   "cell_type": "code",
   "execution_count": 39,
   "metadata": {},
   "outputs": [],
   "source": [
    "a = Mehdi()\n",
    "b = Abbas()"
   ]
  },
  {
   "cell_type": "code",
   "execution_count": 40,
   "metadata": {},
   "outputs": [
    {
     "name": "stdout",
     "output_type": "stream",
     "text": [
      "Your favourite sport is Football\n"
     ]
    }
   ],
   "source": [
    "a.favsport(\"Football\")"
   ]
  },
  {
   "cell_type": "code",
   "execution_count": 41,
   "metadata": {},
   "outputs": [
    {
     "name": "stdout",
     "output_type": "stream",
     "text": [
      "Your favourite sports is Cricket\n"
     ]
    }
   ],
   "source": [
    "b.favsport(\"Cricket\")"
   ]
  },
  {
   "cell_type": "markdown",
   "metadata": {},
   "source": [
    "# Encapsulation"
   ]
  },
  {
   "cell_type": "code",
   "execution_count": 44,
   "metadata": {},
   "outputs": [],
   "source": [
    "class Saylani:\n",
    "    def __init__(self):\n",
    "        self.helpline_number = \"1020\" # public\n",
    "        self._batch = \"Python\" # protected\n",
    "        self.__result = \"70%\" #private\n",
    "\n",
    "    "
   ]
  },
  {
   "cell_type": "code",
   "execution_count": 45,
   "metadata": {},
   "outputs": [],
   "source": [
    "s = Saylani()"
   ]
  },
  {
   "cell_type": "code",
   "execution_count": 48,
   "metadata": {},
   "outputs": [
    {
     "data": {
      "text/plain": [
       "'Python'"
      ]
     },
     "execution_count": 48,
     "metadata": {},
     "output_type": "execute_result"
    }
   ],
   "source": [
    "s._batch"
   ]
  },
  {
   "cell_type": "code",
   "execution_count": 51,
   "metadata": {},
   "outputs": [],
   "source": [
    "s.helpline_number = \"1021\""
   ]
  },
  {
   "cell_type": "code",
   "execution_count": 52,
   "metadata": {},
   "outputs": [
    {
     "data": {
      "text/plain": [
       "'1021'"
      ]
     },
     "execution_count": 52,
     "metadata": {},
     "output_type": "execute_result"
    }
   ],
   "source": [
    "s.helpline_number"
   ]
  },
  {
   "cell_type": "code",
   "execution_count": 53,
   "metadata": {},
   "outputs": [],
   "source": [
    "s._batch = \"Javascript\""
   ]
  },
  {
   "cell_type": "code",
   "execution_count": 54,
   "metadata": {},
   "outputs": [
    {
     "data": {
      "text/plain": [
       "'Javascript'"
      ]
     },
     "execution_count": 54,
     "metadata": {},
     "output_type": "execute_result"
    }
   ],
   "source": [
    "s._batch"
   ]
  },
  {
   "cell_type": "code",
   "execution_count": 56,
   "metadata": {},
   "outputs": [
    {
     "ename": "AttributeError",
     "evalue": "'Saylani' object has no attribute '__result'",
     "output_type": "error",
     "traceback": [
      "\u001b[1;31m---------------------------------------------------------------------------\u001b[0m",
      "\u001b[1;31mAttributeError\u001b[0m                            Traceback (most recent call last)",
      "Cell \u001b[1;32mIn[56], line 1\u001b[0m\n\u001b[1;32m----> 1\u001b[0m s\u001b[38;5;241m.\u001b[39m__result\n",
      "\u001b[1;31mAttributeError\u001b[0m: 'Saylani' object has no attribute '__result'"
     ]
    }
   ],
   "source": [
    "s.__result\n"
   ]
  },
  {
   "cell_type": "code",
   "execution_count": 57,
   "metadata": {},
   "outputs": [
    {
     "data": {
      "text/plain": [
       "'100%'"
      ]
     },
     "execution_count": 57,
     "metadata": {},
     "output_type": "execute_result"
    }
   ],
   "source": [
    "s._saylani__result = \"100%\"\n",
    "s._saylani__result"
   ]
  },
  {
   "cell_type": "code",
   "execution_count": 69,
   "metadata": {},
   "outputs": [
    {
     "name": "stdout",
     "output_type": "stream",
     "text": [
      "Valid\n",
      "Valid\n"
     ]
    }
   ],
   "source": [
    "class StudentLogin:\n",
    "    def __init__(self):\n",
    "        self.__username = \"mehdi.abbas10948\"\n",
    "        self.__password = \"mehdi@785\"\n",
    "\n",
    "    def __dbconnectivity(self, user, password):\n",
    "        if self.__username == user and self.__password == password:\n",
    "            print(\"Valid\")\n",
    "        else:\n",
    "            print(\"Not Valid\")\n",
    "\n",
    "    def set_password(self, password):\n",
    "        self.__password = password\n",
    "\n",
    "    def validate(self, user, password):\n",
    "        self.__dbconnectivity(user, password)\n",
    "\n",
    "\n",
    "student = StudentLogin()\n",
    "student.validate(\"mehdi.abbas10948\", \"mehdi@785\") \n",
    "student.set_password(\"user123\")\n",
    "student.validate(\"mehdi.abbas10948\", \"user123\")   \n"
   ]
  },
  {
   "cell_type": "code",
   "execution_count": 70,
   "metadata": {},
   "outputs": [
    {
     "name": "stdout",
     "output_type": "stream",
     "text": [
      "Deposited 50. New balance is 150\n",
      "Withdrew 30. New balance is 120\n",
      "120\n"
     ]
    }
   ],
   "source": [
    "class BankAccount:\n",
    "    def __init__(self, owner, balance=0):\n",
    "        self.owner = owner\n",
    "        self.__balance = balance  \n",
    "\n",
    "    def deposit(self, amount):\n",
    "        if amount > 0:\n",
    "            self.__balance += amount\n",
    "            print(f\"Deposited {amount}. New balance is {self.__balance}\")\n",
    "        else:\n",
    "            print(\"Deposit amount must be positive.\")\n",
    "\n",
    "    def withdraw(self, amount):\n",
    "        if 0 < amount <= self.__balance:\n",
    "            self.__balance -= amount\n",
    "            print(f\"Withdrew {amount}. New balance is {self.__balance}\")\n",
    "        else:\n",
    "            print(\"Insufficient balance or invalid amount.\")\n",
    "\n",
    "    def get_balance(self):\n",
    "        return self.__balance  \n",
    "\n",
    "account = BankAccount(\"Alice\", 100)\n",
    "account.deposit(50)  \n",
    "account.withdraw(30)  \n",
    "print(account.get_balance()) \n"
   ]
  },
  {
   "cell_type": "code",
   "execution_count": null,
   "metadata": {},
   "outputs": [],
   "source": []
  }
 ],
 "metadata": {
  "kernelspec": {
   "display_name": "base",
   "language": "python",
   "name": "python3"
  },
  "language_info": {
   "codemirror_mode": {
    "name": "ipython",
    "version": 3
   },
   "file_extension": ".py",
   "mimetype": "text/x-python",
   "name": "python",
   "nbconvert_exporter": "python",
   "pygments_lexer": "ipython3",
   "version": "3.11.7"
  }
 },
 "nbformat": 4,
 "nbformat_minor": 2
}
