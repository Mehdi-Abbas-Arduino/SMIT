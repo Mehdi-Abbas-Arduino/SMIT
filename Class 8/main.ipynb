{
 "cells": [
  {
   "cell_type": "code",
   "execution_count": 2,
   "metadata": {},
   "outputs": [
    {
     "name": "stdout",
     "output_type": "stream",
     "text": [
      "18000\n",
      "22\n"
     ]
    }
   ],
   "source": [
    "user_input = input('Enter what you want to do + , - , * , /, or q to quit = ')\n",
    "while user_input!='q': \n",
    "    num1 = int(input(\"Enter the number = \"))\n",
    "    num2 = int(input(\"Enter the number = \"))\n",
    "    if user_input == '+':\n",
    "        total = num1 + num2 \n",
    "        print(total)\n",
    "    elif user_input == '-':\n",
    "        total = abs(num1 - num2) \n",
    "        print(total)\n",
    "    elif user_input == '/':\n",
    "        total = num1 / num2\n",
    "        print(total) \n",
    "    elif user_input == '*':\n",
    "        total = num1 * num2\n",
    "        print(total) \n",
    "    user_input = input('Enter what you want to do + , - , * , /, or q to quit = ')\n",
    "    "
   ]
  },
  {
   "cell_type": "markdown",
   "metadata": {},
   "source": [
    "# Classes"
   ]
  },
  {
   "cell_type": "code",
   "execution_count": 5,
   "metadata": {},
   "outputs": [],
   "source": [
    "lst = ['Mehdi',True]"
   ]
  },
  {
   "cell_type": "code",
   "execution_count": 6,
   "metadata": {},
   "outputs": [],
   "source": [
    "lst.append('Abbas')\n",
    "# this is an actitvity --> Functionality\n",
    "# Method are nothing but a part behavior of any class \n",
    "# OBJECT Is an instance of class that posses blueprint of class\n",
    "# Class is a blueprint "
   ]
  },
  {
   "cell_type": "code",
   "execution_count": 7,
   "metadata": {},
   "outputs": [
    {
     "data": {
      "text/plain": [
       "['Mehdi', True, 'Abbas']"
      ]
     },
     "execution_count": 7,
     "metadata": {},
     "output_type": "execute_result"
    }
   ],
   "source": [
    "lst"
   ]
  },
  {
   "cell_type": "code",
   "execution_count": 8,
   "metadata": {},
   "outputs": [],
   "source": [
    "lst2 = ['Mehdi',True]"
   ]
  },
  {
   "cell_type": "code",
   "execution_count": 9,
   "metadata": {},
   "outputs": [],
   "source": [
    "lst2.insert(1,'Abbas')"
   ]
  },
  {
   "cell_type": "code",
   "execution_count": 12,
   "metadata": {},
   "outputs": [
    {
     "data": {
      "text/plain": [
       "['__add__',\n",
       " '__class__',\n",
       " '__class_getitem__',\n",
       " '__contains__',\n",
       " '__delattr__',\n",
       " '__delitem__',\n",
       " '__dir__',\n",
       " '__doc__',\n",
       " '__eq__',\n",
       " '__format__',\n",
       " '__ge__',\n",
       " '__getattribute__',\n",
       " '__getitem__',\n",
       " '__getstate__',\n",
       " '__gt__',\n",
       " '__hash__',\n",
       " '__iadd__',\n",
       " '__imul__',\n",
       " '__init__',\n",
       " '__init_subclass__',\n",
       " '__iter__',\n",
       " '__le__',\n",
       " '__len__',\n",
       " '__lt__',\n",
       " '__mul__',\n",
       " '__ne__',\n",
       " '__new__',\n",
       " '__reduce__',\n",
       " '__reduce_ex__',\n",
       " '__repr__',\n",
       " '__reversed__',\n",
       " '__rmul__',\n",
       " '__setattr__',\n",
       " '__setitem__',\n",
       " '__sizeof__',\n",
       " '__str__',\n",
       " '__subclasshook__',\n",
       " 'append',\n",
       " 'clear',\n",
       " 'copy',\n",
       " 'count',\n",
       " 'extend',\n",
       " 'index',\n",
       " 'insert',\n",
       " 'pop',\n",
       " 'remove',\n",
       " 'reverse',\n",
       " 'sort']"
      ]
     },
     "execution_count": 12,
     "metadata": {},
     "output_type": "execute_result"
    }
   ],
   "source": [
    "dir(lst) # __add__ everything method starts/ends ___ it is called dunder methods"
   ]
  },
  {
   "cell_type": "code",
   "execution_count": 14,
   "metadata": {},
   "outputs": [
    {
     "data": {
      "text/plain": [
       "'\\n1. special type of a method \\n2. That initialize class attributes\\n'"
      ]
     },
     "execution_count": 14,
     "metadata": {},
     "output_type": "execute_result"
    }
   ],
   "source": [
    "# Attributes are nothing but characterstics of class\n",
    "# Constructor \n",
    "'''\n",
    "1. special type of a method \n",
    "2. That initialize class attributes\n",
    "'''"
   ]
  },
  {
   "cell_type": "markdown",
   "metadata": {},
   "source": [
    "## Classes\n",
    "         is a blueprint that posses attributes(charterstics) and methods(Behaviors) \n",
    "- method/constructor\n",
    "- attributes\n",
    "- methods\n",
    "- initialize object"
   ]
  },
  {
   "cell_type": "code",
   "execution_count": 38,
   "metadata": {},
   "outputs": [],
   "source": [
    "class Car:\n",
    "    def __init__(self,name,model,year,color):\n",
    "        self.name = name\n",
    "        self.model = model\n",
    "        self.year = year\n",
    "        self.color = color\n",
    "    def specs(self):\n",
    "        return f\"{self.name} {self.model} is in {self.color} color and was created in {self.year}\"\n",
    "    def travel(self,passenger:str) -> None:\n",
    "        print(f\"{passenger} is travelling in {self.name}\")     \n",
    "    def carry(self,weight:int,goods:str) -> None:\n",
    "        print(f\"{self.name} is carrying {goods} of weight {weight}\")"
   ]
  },
  {
   "cell_type": "code",
   "execution_count": 39,
   "metadata": {},
   "outputs": [],
   "source": [
    "Audi = Car(name='Audi',model='A5',year=2020,color='Red-Brown')"
   ]
  },
  {
   "cell_type": "code",
   "execution_count": 40,
   "metadata": {},
   "outputs": [
    {
     "data": {
      "text/plain": [
       "'Audi A5 is in Red-Brown color and was created in 2020'"
      ]
     },
     "execution_count": 40,
     "metadata": {},
     "output_type": "execute_result"
    }
   ],
   "source": [
    "Audi.specs()"
   ]
  },
  {
   "cell_type": "code",
   "execution_count": 41,
   "metadata": {},
   "outputs": [
    {
     "name": "stdout",
     "output_type": "stream",
     "text": [
      "Audi is carrying ['apple', 'Mango'] of weight 74.5\n"
     ]
    }
   ],
   "source": [
    "Audi.carry(weight=74.5,goods=['apple','Mango'])"
   ]
  },
  {
   "cell_type": "code",
   "execution_count": 42,
   "metadata": {},
   "outputs": [
    {
     "name": "stdout",
     "output_type": "stream",
     "text": [
      "Mehdi is travelling in Audi\n"
     ]
    }
   ],
   "source": [
    "Audi.travel(passenger='Mehdi')"
   ]
  },
  {
   "cell_type": "code",
   "execution_count": 101,
   "metadata": {},
   "outputs": [],
   "source": [
    "class Saylani :\n",
    "    counter = 0\n",
    "    organization = 'SMIT'\n",
    "    def __init__(self,name,Course,Teacher:str) -> None:\n",
    "        self.name:str = name\n",
    "        self.Course:str  = Course\n",
    "        self.Teacher:str = Teacher\n",
    "        Saylani.counter += 1\n",
    "    def description(self):\n",
    "        print(f\"Mr {self.name} you are enrolled in {self.Course} course and your Teacher is {self.Teacher}\")\n",
    "    def card(self):\n",
    "        return f\"Name : {self.name} , Course : {self.Course}\""
   ]
  },
  {
   "cell_type": "code",
   "execution_count": 102,
   "metadata": {},
   "outputs": [],
   "source": [
    "Mehdi = Saylani('mehdi','Python','Qasim')\n",
    "Abbas = Saylani('Abbas','Python','Qasim')"
   ]
  },
  {
   "cell_type": "code",
   "execution_count": 103,
   "metadata": {},
   "outputs": [
    {
     "name": "stdout",
     "output_type": "stream",
     "text": [
      "Mr mehdi you are enrolled in Python course and your Teacher is Qasim\n"
     ]
    }
   ],
   "source": [
    "Mehdi.description()"
   ]
  },
  {
   "cell_type": "code",
   "execution_count": 104,
   "metadata": {},
   "outputs": [
    {
     "data": {
      "text/plain": [
       "2"
      ]
     },
     "execution_count": 104,
     "metadata": {},
     "output_type": "execute_result"
    }
   ],
   "source": [
    "Saylani.counter"
   ]
  },
  {
   "cell_type": "code",
   "execution_count": 105,
   "metadata": {},
   "outputs": [
    {
     "data": {
      "text/plain": [
       "'Name : Abbas , Course : Python'"
      ]
     },
     "execution_count": 105,
     "metadata": {},
     "output_type": "execute_result"
    }
   ],
   "source": [
    "Abbas.card()    "
   ]
  },
  {
   "cell_type": "code",
   "execution_count": 92,
   "metadata": {},
   "outputs": [],
   "source": [
    "class teachers:\n",
    "# class variables\n",
    "    counter = 0 \n",
    "    # It will be called with class name \n",
    "    organization = 'Saylani Mass IT Training'\n",
    "    def __init__(self,name,course,timings) -> None:\n",
    "        self.name = name\n",
    "        self.course = course\n",
    "        self.timings = timings\n",
    "        teachers.counter += 1\n",
    "    def teaching(self):\n",
    "        print(f\"Teacher {self.name} is teaching {self.course} at {self.timings}\")"
   ]
  },
  {
   "cell_type": "code",
   "execution_count": 93,
   "metadata": {},
   "outputs": [],
   "source": [
    "Qasim = teachers('Mehdi','Python','9-12')"
   ]
  },
  {
   "cell_type": "code",
   "execution_count": 94,
   "metadata": {},
   "outputs": [
    {
     "name": "stdout",
     "output_type": "stream",
     "text": [
      "Teacher Mehdi is teaching Python at 9-12\n"
     ]
    }
   ],
   "source": [
    "Qasim.teaching()"
   ]
  },
  {
   "cell_type": "code",
   "execution_count": 96,
   "metadata": {},
   "outputs": [
    {
     "data": {
      "text/plain": [
       "1"
      ]
     },
     "execution_count": 96,
     "metadata": {},
     "output_type": "execute_result"
    }
   ],
   "source": [
    "Qasim.counter"
   ]
  },
  {
   "cell_type": "code",
   "execution_count": 98,
   "metadata": {},
   "outputs": [
    {
     "data": {
      "text/plain": [
       "'Saylani Mass IT Training'"
      ]
     },
     "execution_count": 98,
     "metadata": {},
     "output_type": "execute_result"
    }
   ],
   "source": [
    "Qasim.organization"
   ]
  },
  {
   "cell_type": "code",
   "execution_count": 1,
   "metadata": {},
   "outputs": [],
   "source": [
    "# OOP --> object oriented programming \n",
    "\n",
    "# # Pillars\n",
    "# '''\n",
    "# inheritance\n",
    "# Polymorphism\n",
    "# Abstraction\n",
    "# Encapsulation\n",
    "# '''"
   ]
  },
  {
   "cell_type": "code",
   "execution_count": 14,
   "metadata": {},
   "outputs": [],
   "source": [
    "class Employee:\n",
    "    no_of_employee = 0\n",
    "    organization = \"MehdiCorp\"\n",
    "    def __init__(self,name,age,salary) -> None:\n",
    "        self.name = name\n",
    "        self.age = age\n",
    "        self.salary = salary\n",
    "        Employee.no_of_employee += 1\n",
    "    def description(self):\n",
    "        return f\"\"\"Employee:{self.name},\n",
    "        age : {self.age},\n",
    "        salary : {self.salary}\n",
    "        \"\"\".replace(\" \",\"\").replace(\"\\n\",\"\").strip()"
   ]
  },
  {
   "cell_type": "code",
   "execution_count": 15,
   "metadata": {},
   "outputs": [],
   "source": [
    "Mehdi = Employee(\"Mehdi\",16,2500000)"
   ]
  },
  {
   "cell_type": "code",
   "execution_count": 16,
   "metadata": {},
   "outputs": [
    {
     "data": {
      "text/plain": [
       "1"
      ]
     },
     "execution_count": 16,
     "metadata": {},
     "output_type": "execute_result"
    }
   ],
   "source": [
    "Mehdi.no_of_employee"
   ]
  },
  {
   "cell_type": "code",
   "execution_count": 17,
   "metadata": {},
   "outputs": [
    {
     "data": {
      "text/plain": [
       "'MehdiCorp'"
      ]
     },
     "execution_count": 17,
     "metadata": {},
     "output_type": "execute_result"
    }
   ],
   "source": [
    "Mehdi.organization"
   ]
  },
  {
   "cell_type": "code",
   "execution_count": 18,
   "metadata": {},
   "outputs": [
    {
     "data": {
      "text/plain": [
       "'Mehdi'"
      ]
     },
     "execution_count": 18,
     "metadata": {},
     "output_type": "execute_result"
    }
   ],
   "source": [
    "Mehdi.name"
   ]
  },
  {
   "cell_type": "code",
   "execution_count": 19,
   "metadata": {},
   "outputs": [
    {
     "data": {
      "text/plain": [
       "16"
      ]
     },
     "execution_count": 19,
     "metadata": {},
     "output_type": "execute_result"
    }
   ],
   "source": [
    "Mehdi.age"
   ]
  },
  {
   "cell_type": "code",
   "execution_count": 20,
   "metadata": {},
   "outputs": [
    {
     "data": {
      "text/plain": [
       "2500000"
      ]
     },
     "execution_count": 20,
     "metadata": {},
     "output_type": "execute_result"
    }
   ],
   "source": [
    "Mehdi.salary"
   ]
  },
  {
   "cell_type": "code",
   "execution_count": 21,
   "metadata": {},
   "outputs": [
    {
     "data": {
      "text/plain": [
       "'Employee:Mehdi,age:16,salary:2500000'"
      ]
     },
     "execution_count": 21,
     "metadata": {},
     "output_type": "execute_result"
    }
   ],
   "source": [
    "Mehdi.description()"
   ]
  },
  {
   "cell_type": "code",
   "execution_count": null,
   "metadata": {},
   "outputs": [],
   "source": []
  }
 ],
 "metadata": {
  "kernelspec": {
   "display_name": "base",
   "language": "python",
   "name": "python3"
  },
  "language_info": {
   "codemirror_mode": {
    "name": "ipython",
    "version": 3
   },
   "file_extension": ".py",
   "mimetype": "text/x-python",
   "name": "python",
   "nbconvert_exporter": "python",
   "pygments_lexer": "ipython3",
   "version": "3.11.7"
  }
 },
 "nbformat": 4,
 "nbformat_minor": 2
}
