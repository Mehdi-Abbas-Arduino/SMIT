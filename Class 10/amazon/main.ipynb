{
 "cells": [
  {
   "cell_type": "code",
   "execution_count": 22,
   "metadata": {},
   "outputs": [],
   "source": [
    "import requests\n",
    "from bs4 import BeautifulSoup\n",
    "import html.parser"
   ]
  },
  {
   "cell_type": "code",
   "execution_count": 23,
   "metadata": {},
   "outputs": [],
   "source": [
    "r = requests.get(\"https://www.amazon.com/Franklin-Sports-Tornado-Kids-Soccer/dp/B07XNMR695/ref=sr_1_7?crid=L62U3RBJ7GEC&dib=eyJ2IjoiMSJ9.bnABtRbF7Ek7JY6q7T1wBflg0MwLrwpeThumwF9cN3GJw8_VVGZAev2c2fAH4SK7FEK_7eVT9WGUu0z9HlOdjjjNtUTWid367pTi8PQfblRhBpHpVin3Hmbke4sadbPiIJMhXk1F-dbQCU7KePgknNV0LemCXRK3ctWNtVxggASaYGx1k4MoXLNHLg4r0QEQ8XFb91A0W-VmJt0EGNxQAuQ7NcW83qIcQoI2cR8xjH9aThrvK_gEZbLNMhZp3jY8S9e0dNJgE-jKMCW5i-0XaxpFN57zYDNuvrWMDMLJ-4c.bgHzgPGqGhfRQwweWVKg0Y0uAp8_5h4Bq0k2ch-IgJI&dib_tag=se&keywords=soccerball&qid=1724565849&sprefix=socceball%2Caps%2C256&sr=8-7\")"
   ]
  },
  {
   "cell_type": "code",
   "execution_count": 24,
   "metadata": {},
   "outputs": [],
   "source": [
    "with open('product.html',mode='w') as f :\n",
    "    f.write(r.text)"
   ]
  },
  {
   "cell_type": "code",
   "execution_count": 25,
   "metadata": {},
   "outputs": [],
   "source": [
    "contents = r.text\n",
    "soup = BeautifulSoup(contents,'html.parser')"
   ]
  },
  {
   "cell_type": "code",
   "execution_count": 26,
   "metadata": {},
   "outputs": [],
   "source": [
    "div = soup.find(id=\"nav-cover\")"
   ]
  },
  {
   "cell_type": "code",
   "execution_count": 27,
   "metadata": {},
   "outputs": [],
   "source": [
    "div"
   ]
  },
  {
   "cell_type": "code",
   "execution_count": 28,
   "metadata": {},
   "outputs": [],
   "source": [
    "title = soup.find_all(id='productTitle')"
   ]
  },
  {
   "cell_type": "code",
   "execution_count": 29,
   "metadata": {},
   "outputs": [
    {
     "name": "stdout",
     "output_type": "stream",
     "text": [
      "Franklin Sports MLS Tornado Soccer Ball - Soft Cover - Official Size and Weight Soccer Ball - Air Pump Included\n"
     ]
    }
   ],
   "source": [
    "for titles in title :\n",
    "    print(titles.text.strip())"
   ]
  },
  {
   "cell_type": "code",
   "execution_count": 30,
   "metadata": {},
   "outputs": [],
   "source": [
    "div = soup.find(id=\"feature-bullets\")"
   ]
  },
  {
   "cell_type": "code",
   "execution_count": 31,
   "metadata": {},
   "outputs": [],
   "source": [
    "file = open(\"product_details.txt\",'w')\n",
    "# div = soup.find(id=\"feature-bullets\")\n",
    "# file.write(div.text.strip())\n",
    "for i in div :\n",
    "    file.write(i.text.strip())"
   ]
  },
  {
   "cell_type": "code",
   "execution_count": 10,
   "metadata": {},
   "outputs": [],
   "source": [
    "# img = soup.find(src=)\n",
    "# get method"
   ]
  },
  {
   "cell_type": "code",
   "execution_count": null,
   "metadata": {},
   "outputs": [],
   "source": [
    "\n",
    "soup = BeautifulSoup(new_requests.content, 'html.parser')\n",
    "soup\n",
    "\n",
    "links = soup.find_all(class_='card-title link-underline card-title-ellipsis')\n",
    "for link in links:\n",
    "    link = 'https://babynestboutique.com' + link.get('href')\n",
    "    print(link)\n",
    "\n",
    "\n",
    "first_link = soup.find(class_='card-title link-underline card-title-ellipsis')\n",
    "link = 'https://babynestboutique.com' + first_link.get('href')\n",
    "link"
   ]
  }
 ],
 "metadata": {
  "kernelspec": {
   "display_name": "base",
   "language": "python",
   "name": "python3"
  },
  "language_info": {
   "codemirror_mode": {
    "name": "ipython",
    "version": 3
   },
   "file_extension": ".py",
   "mimetype": "text/x-python",
   "name": "python",
   "nbconvert_exporter": "python",
   "pygments_lexer": "ipython3",
   "version": "3.11.7"
  }
 },
 "nbformat": 4,
 "nbformat_minor": 2
}
