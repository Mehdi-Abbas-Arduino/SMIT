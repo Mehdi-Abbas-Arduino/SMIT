{
 "cells": [
  {
   "cell_type": "markdown",
   "metadata": {},
   "source": [
    "# Tuples and Dictionaries "
   ]
  },
  {
   "cell_type": "code",
   "execution_count": 3,
   "metadata": {},
   "outputs": [],
   "source": [
    "# List are mutables (Can be change )\n",
    "bio_data = ['Qasim','Trainers']"
   ]
  },
  {
   "cell_type": "code",
   "execution_count": 4,
   "metadata": {},
   "outputs": [
    {
     "data": {
      "text/plain": [
       "['Qasim', 'Trainers']"
      ]
     },
     "execution_count": 4,
     "metadata": {},
     "output_type": "execute_result"
    }
   ],
   "source": [
    "bio_data"
   ]
  },
  {
   "cell_type": "markdown",
   "metadata": {},
   "source": [
    "## Tuples\n",
    "1. Can't be change "
   ]
  },
  {
   "cell_type": "code",
   "execution_count": 5,
   "metadata": {},
   "outputs": [],
   "source": [
    "biodata = (\"Qasim\",'Trainers','9to12')"
   ]
  },
  {
   "cell_type": "code",
   "execution_count": 6,
   "metadata": {},
   "outputs": [
    {
     "data": {
      "text/plain": [
       "('Qasim', 'Trainers', '9to12')"
      ]
     },
     "execution_count": 6,
     "metadata": {},
     "output_type": "execute_result"
    }
   ],
   "source": [
    "biodata"
   ]
  },
  {
   "cell_type": "code",
   "execution_count": 7,
   "metadata": {},
   "outputs": [
    {
     "data": {
      "text/plain": [
       "tuple"
      ]
     },
     "execution_count": 7,
     "metadata": {},
     "output_type": "execute_result"
    }
   ],
   "source": [
    "type(biodata)"
   ]
  },
  {
   "cell_type": "code",
   "execution_count": 8,
   "metadata": {},
   "outputs": [
    {
     "name": "stdout",
     "output_type": "stream",
     "text": [
      "<class 'int'>\n",
      "<class 'tuple'>\n"
     ]
    }
   ],
   "source": [
    "lst = 1\n",
    "print(type(lst))\n",
    "\n",
    "tup = (1,)\n",
    "print(type(tup))"
   ]
  },
  {
   "cell_type": "code",
   "execution_count": 10,
   "metadata": {},
   "outputs": [
    {
     "data": {
      "text/plain": [
       "1"
      ]
     },
     "execution_count": 10,
     "metadata": {},
     "output_type": "execute_result"
    }
   ],
   "source": [
    "tup[0]"
   ]
  },
  {
   "cell_type": "code",
   "execution_count": 11,
   "metadata": {},
   "outputs": [
    {
     "data": {
      "text/plain": [
       "0"
      ]
     },
     "execution_count": 11,
     "metadata": {},
     "output_type": "execute_result"
    }
   ],
   "source": [
    "tup.index(1)"
   ]
  },
  {
   "cell_type": "code",
   "execution_count": 12,
   "metadata": {},
   "outputs": [
    {
     "data": {
      "text/plain": [
       "1"
      ]
     },
     "execution_count": 12,
     "metadata": {},
     "output_type": "execute_result"
    }
   ],
   "source": [
    "tup.count(1)"
   ]
  },
  {
   "cell_type": "code",
   "execution_count": 13,
   "metadata": {},
   "outputs": [],
   "source": [
    "tup_my = ('Mehdi',16 ,\"5'7\")"
   ]
  },
  {
   "cell_type": "code",
   "execution_count": 14,
   "metadata": {},
   "outputs": [
    {
     "data": {
      "text/plain": [
       "('Mehdi', 16, \"5'7\")"
      ]
     },
     "execution_count": 14,
     "metadata": {},
     "output_type": "execute_result"
    }
   ],
   "source": [
    "tup_my"
   ]
  },
  {
   "cell_type": "code",
   "execution_count": 15,
   "metadata": {},
   "outputs": [
    {
     "name": "stdout",
     "output_type": "stream",
     "text": [
      "1\n",
      "1\n"
     ]
    }
   ],
   "source": [
    "print(tup_my.count('Mehdi'))\n",
    "print(tup_my.index(16))"
   ]
  },
  {
   "cell_type": "markdown",
   "metadata": {},
   "source": [
    "# Loop"
   ]
  },
  {
   "cell_type": "code",
   "execution_count": 19,
   "metadata": {},
   "outputs": [],
   "source": [
    "fruits = ['Apple','Mango','Orange','Grapes']"
   ]
  },
  {
   "cell_type": "code",
   "execution_count": 20,
   "metadata": {},
   "outputs": [
    {
     "data": {
      "text/plain": [
       "['Apple', 'Mango', 'Orange', 'Grapes']"
      ]
     },
     "execution_count": 20,
     "metadata": {},
     "output_type": "execute_result"
    }
   ],
   "source": [
    "fruits"
   ]
  },
  {
   "cell_type": "code",
   "execution_count": 22,
   "metadata": {},
   "outputs": [
    {
     "name": "stdout",
     "output_type": "stream",
     "text": [
      "Apple\n",
      "Mango\n",
      "Orange\n",
      "Grapes\n"
     ]
    }
   ],
   "source": [
    "'''\n",
    "for <temp_var> in <Iterator>:\n",
    "    <body>\n",
    "'''\n",
    "for fruit in fruits:\n",
    "    print(fruit)"
   ]
  },
  {
   "cell_type": "code",
   "execution_count": 31,
   "metadata": {},
   "outputs": [
    {
     "name": "stdout",
     "output_type": "stream",
     "text": [
      " On 0 there is Mehdi\n",
      " On 1 there is 16\n",
      " On 2 there is 5'7\n"
     ]
    }
   ],
   "source": [
    "for index,t in enumerate(tup_my):\n",
    "    # if index%2==0:\n",
    "    #     print(t)\n",
    "    print(f\" On {index} there is {t}\")"
   ]
  },
  {
   "cell_type": "code",
   "execution_count": 29,
   "metadata": {},
   "outputs": [
    {
     "data": {
      "text/plain": [
       "['Mehdi', 16, \"5'7\"]"
      ]
     },
     "execution_count": 29,
     "metadata": {},
     "output_type": "execute_result"
    }
   ],
   "source": [
    "list(tup_my)"
   ]
  },
  {
   "cell_type": "code",
   "execution_count": 32,
   "metadata": {},
   "outputs": [
    {
     "name": "stdout",
     "output_type": "stream",
     "text": [
      "Apple is at 0\n",
      "Mango is at 1\n",
      "Orange is at 2\n",
      "Grapes is at 3\n"
     ]
    }
   ],
   "source": [
    "for data in enumerate(fruits):\n",
    "    print(f\"{data[1]} is at {data[0]}\")"
   ]
  },
  {
   "cell_type": "code",
   "execution_count": 33,
   "metadata": {},
   "outputs": [
    {
     "name": "stdout",
     "output_type": "stream",
     "text": [
      "[0, 1, 2, 3]\n"
     ]
    }
   ],
   "source": [
    "fruits_index = [0,1,2,3]\n",
    "print(fruits_index)"
   ]
  },
  {
   "cell_type": "code",
   "execution_count": 35,
   "metadata": {},
   "outputs": [
    {
     "data": {
      "text/plain": [
       "[(0, 'Apple'), (1, 'Mango'), (2, 'Orange'), (3, 'Grapes')]"
      ]
     },
     "execution_count": 35,
     "metadata": {},
     "output_type": "execute_result"
    }
   ],
   "source": [
    "list(zip(fruits_index,fruits))"
   ]
  },
  {
   "cell_type": "code",
   "execution_count": 36,
   "metadata": {},
   "outputs": [
    {
     "name": "stdout",
     "output_type": "stream",
     "text": [
      "(0, 'Apple')\n",
      "(1, 'Mango')\n",
      "(2, 'Orange')\n",
      "(3, 'Grapes')\n"
     ]
    }
   ],
   "source": [
    "for i in zip(fruits_index,fruits):\n",
    "    print(i)"
   ]
  },
  {
   "cell_type": "code",
   "execution_count": 37,
   "metadata": {},
   "outputs": [],
   "source": [
    "# make sure index should be in sequence if the index list is greaterthan list of collection"
   ]
  },
  {
   "cell_type": "code",
   "execution_count": 39,
   "metadata": {},
   "outputs": [
    {
     "name": "stdout",
     "output_type": "stream",
     "text": [
      "0\n",
      "2\n",
      "4\n",
      "6\n",
      "8\n",
      "10\n"
     ]
    }
   ],
   "source": [
    "for temp in range(0,11,2):\n",
    "    print(temp)"
   ]
  },
  {
   "cell_type": "code",
   "execution_count": 41,
   "metadata": {},
   "outputs": [
    {
     "name": "stdout",
     "output_type": "stream",
     "text": [
      "20\n",
      "23\n"
     ]
    }
   ],
   "source": [
    "for i in range(20,26,3):\n",
    "    print(i)"
   ]
  },
  {
   "cell_type": "code",
   "execution_count": 42,
   "metadata": {},
   "outputs": [
    {
     "name": "stdout",
     "output_type": "stream",
     "text": [
      "Apple\n",
      "Apple\n",
      "Apple\n",
      "Apple\n",
      "Apple\n",
      "Apple\n",
      "Apple\n",
      "Apple\n",
      "Apple\n",
      "Apple\n",
      "Apple\n",
      "Apple\n",
      "Apple\n",
      "Apple\n",
      "Apple\n"
     ]
    }
   ],
   "source": [
    "for i in range(15):\n",
    "    print(\"Apple\")"
   ]
  },
  {
   "cell_type": "code",
   "execution_count": 45,
   "metadata": {},
   "outputs": [
    {
     "name": "stdout",
     "output_type": "stream",
     "text": [
      "Apples\n",
      "Apples\n",
      "Apples\n",
      "Apples\n",
      "Apples\n",
      "Apples\n",
      "Apples\n",
      "Apples\n",
      "Apples\n",
      "Apples\n",
      "Apples\n",
      "Apples\n",
      "Apples\n",
      "Apples\n",
      "Apples\n",
      "\n"
     ]
    }
   ],
   "source": [
    "print(\"Apples\\n\"*15)"
   ]
  },
  {
   "cell_type": "code",
   "execution_count": 1,
   "metadata": {},
   "outputs": [],
   "source": [
    "clean_cities = ['karachi','Lahore','islamabad']\n",
    "clean = []"
   ]
  },
  {
   "cell_type": "code",
   "execution_count": 6,
   "metadata": {},
   "outputs": [],
   "source": [
    "user_input = input(\"Enter your city for a cricket match = \")\n",
    "if user_input in clean_cities:\n",
    "    print(\"Your team is already in group A\")\n",
    "else:\n",
    "    clean.append(user_input)"
   ]
  },
  {
   "cell_type": "code",
   "execution_count": 7,
   "metadata": {},
   "outputs": [
    {
     "data": {
      "text/plain": [
       "['Multan', 'Hyderabad', 'Larkana']"
      ]
     },
     "execution_count": 7,
     "metadata": {},
     "output_type": "execute_result"
    }
   ],
   "source": [
    "clean"
   ]
  },
  {
   "cell_type": "code",
   "execution_count": 12,
   "metadata": {},
   "outputs": [
    {
     "name": "stdout",
     "output_type": "stream",
     "text": [
      "karachi vs Multan\n",
      "Matched\n",
      "Lahore vs Multan\n",
      "Lahore vs Hyderabad\n",
      "Matched\n",
      "islamabad vs Multan\n",
      "islamabad vs Hyderabad\n",
      "islamabad vs Larkana\n",
      "Matched\n"
     ]
    }
   ],
   "source": [
    "for a in range(len(clean_cities)):  # Loop through clean_cities list using index a\n",
    "    for b in range(len(clean)):  # Loop through clean list using index b\n",
    "        print(clean_cities[a] + ' vs ' + clean[b])  # Print the elements being compared\n",
    "        if clean_cities[a] == clean_cities[b]:  # Check if elements at the same index in clean_cities match\n",
    "            print(\"Matched\")  # Print \"Matched\" if they match\n",
    "            break  # Exit the inner loop\n"
   ]
  },
  {
   "cell_type": "code",
   "execution_count": 13,
   "metadata": {},
   "outputs": [],
   "source": [
    "# Upper \n",
    "# lower\n",
    "# title"
   ]
  },
  {
   "cell_type": "markdown",
   "metadata": {},
   "source": [
    "# Dictionaries\n",
    "It always have key value pairs"
   ]
  },
  {
   "cell_type": "code",
   "execution_count": 14,
   "metadata": {},
   "outputs": [],
   "source": [
    "dic = {\n",
    "    'age':16,\n",
    "    'weight':\"5'7\"\n",
    "}"
   ]
  },
  {
   "cell_type": "code",
   "execution_count": 15,
   "metadata": {},
   "outputs": [
    {
     "name": "stdout",
     "output_type": "stream",
     "text": [
      "<class 'dict'>\n"
     ]
    }
   ],
   "source": [
    "print(type(dic))"
   ]
  },
  {
   "cell_type": "code",
   "execution_count": 16,
   "metadata": {},
   "outputs": [
    {
     "data": {
      "text/plain": [
       "16"
      ]
     },
     "execution_count": 16,
     "metadata": {},
     "output_type": "execute_result"
    }
   ],
   "source": [
    "dic['age']"
   ]
  },
  {
   "cell_type": "code",
   "execution_count": 17,
   "metadata": {},
   "outputs": [],
   "source": [
    "customer = {\n",
    "    \"first name\" : \"David\",\n",
    "    \"Last name \" : \"Elliot\",\n",
    "    \"address\" : \"Wall Street\"\n",
    "}"
   ]
  },
  {
   "cell_type": "code",
   "execution_count": 18,
   "metadata": {},
   "outputs": [
    {
     "data": {
      "text/plain": [
       "{'first name': 'David', 'Last name ': 'Elliot', 'address': 'Wall Street'}"
      ]
     },
     "execution_count": 18,
     "metadata": {},
     "output_type": "execute_result"
    }
   ],
   "source": [
    "customer"
   ]
  },
  {
   "cell_type": "code",
   "execution_count": 19,
   "metadata": {},
   "outputs": [
    {
     "data": {
      "text/plain": [
       "'Wall Street'"
      ]
     },
     "execution_count": 19,
     "metadata": {},
     "output_type": "execute_result"
    }
   ],
   "source": [
    "customer['address']"
   ]
  },
  {
   "cell_type": "code",
   "execution_count": 20,
   "metadata": {},
   "outputs": [],
   "source": [
    "customer['age'] = 17"
   ]
  },
  {
   "cell_type": "code",
   "execution_count": 21,
   "metadata": {},
   "outputs": [
    {
     "data": {
      "text/plain": [
       "{'first name': 'David',\n",
       " 'Last name ': 'Elliot',\n",
       " 'address': 'Wall Street',\n",
       " 'age': 17}"
      ]
     },
     "execution_count": 21,
     "metadata": {},
     "output_type": "execute_result"
    }
   ],
   "source": [
    "customer"
   ]
  },
  {
   "cell_type": "code",
   "execution_count": 22,
   "metadata": {},
   "outputs": [],
   "source": [
    "dict_versatalilty = {1:'Qasim',\n",
    "                     2:'Hassan',\n",
    "                     3:'Khan'}"
   ]
  },
  {
   "cell_type": "code",
   "execution_count": 23,
   "metadata": {},
   "outputs": [
    {
     "data": {
      "text/plain": [
       "{1: 'Qasim', 2: 'Hassan', 3: 'Khan'}"
      ]
     },
     "execution_count": 23,
     "metadata": {},
     "output_type": "execute_result"
    }
   ],
   "source": [
    "dict_versatalilty"
   ]
  },
  {
   "cell_type": "code",
   "execution_count": 25,
   "metadata": {},
   "outputs": [],
   "source": [
    "dict_versatalilty[4] = \"Anas\""
   ]
  },
  {
   "cell_type": "code",
   "execution_count": 26,
   "metadata": {},
   "outputs": [
    {
     "data": {
      "text/plain": [
       "{1: 'Qasim', 2: 'Hassan', 3: 'Khan', 4: 'Anas'}"
      ]
     },
     "execution_count": 26,
     "metadata": {},
     "output_type": "execute_result"
    }
   ],
   "source": [
    "dict_versatalilty"
   ]
  },
  {
   "cell_type": "code",
   "execution_count": 27,
   "metadata": {},
   "outputs": [],
   "source": [
    "dict_versatalilty[2] = \"Mehdi\""
   ]
  },
  {
   "cell_type": "code",
   "execution_count": 28,
   "metadata": {},
   "outputs": [
    {
     "data": {
      "text/plain": [
       "{1: 'Qasim', 2: 'Mehdi', 3: 'Khan', 4: 'Anas'}"
      ]
     },
     "execution_count": 28,
     "metadata": {},
     "output_type": "execute_result"
    }
   ],
   "source": [
    "dict_versatalilty"
   ]
  },
  {
   "cell_type": "code",
   "execution_count": 29,
   "metadata": {},
   "outputs": [],
   "source": [
    "# Keys & Values can both be a number "
   ]
  },
  {
   "cell_type": "code",
   "execution_count": 30,
   "metadata": {},
   "outputs": [
    {
     "data": {
      "text/plain": [
       "{'first name': 'David',\n",
       " 'Last name ': 'Elliot',\n",
       " 'address': 'Wall Street',\n",
       " 'age': 17}"
      ]
     },
     "execution_count": 30,
     "metadata": {},
     "output_type": "execute_result"
    }
   ],
   "source": [
    "customer"
   ]
  },
  {
   "cell_type": "code",
   "execution_count": 31,
   "metadata": {},
   "outputs": [],
   "source": [
    "customer['Phone Number'] = '+923328829273'"
   ]
  },
  {
   "cell_type": "code",
   "execution_count": 32,
   "metadata": {},
   "outputs": [
    {
     "data": {
      "text/plain": [
       "{'first name': 'David',\n",
       " 'Last name ': 'Elliot',\n",
       " 'address': 'Wall Street',\n",
       " 'age': 17,\n",
       " 'Phone Number': '+923328829273'}"
      ]
     },
     "execution_count": 32,
     "metadata": {},
     "output_type": "execute_result"
    }
   ],
   "source": [
    "customer"
   ]
  },
  {
   "cell_type": "code",
   "execution_count": 42,
   "metadata": {},
   "outputs": [
    {
     "name": "stdout",
     "output_type": "stream",
     "text": [
      "Tasks entered:\n",
      "{'Task 1': 'read', 'Task 2': 'write'}\n",
      "Task 1: read\n",
      "Task 2: write\n"
     ]
    }
   ],
   "source": [
    "# Initialize an empty dictionary\n",
    "tasks = {}\n",
    "\n",
    "# Loop four times to get four tasks from the user\n",
    "for i in range(2):\n",
    "    user_input = input(f\"Enter task {i+1}: \")\n",
    "    tasks['Task '+ str(i+1)] = user_input\n",
    "\n",
    "# Print the tasks stored in the dictionary\n",
    "print(\"Tasks entered:\")\n",
    "print(tasks)\n",
    "for key, value in tasks.items():\n",
    "    print(f\"{key}: {value}\")\n"
   ]
  },
  {
   "cell_type": "code",
   "execution_count": 43,
   "metadata": {},
   "outputs": [],
   "source": [
    "customer['City'] = 'LA'"
   ]
  },
  {
   "cell_type": "code",
   "execution_count": 44,
   "metadata": {},
   "outputs": [
    {
     "data": {
      "text/plain": [
       "{'first name': 'David',\n",
       " 'Last name ': 'Elliot',\n",
       " 'address': 'Wall Street',\n",
       " 'age': 17,\n",
       " 'Phone Number': '+923328829273',\n",
       " 'City': 'LA'}"
      ]
     },
     "execution_count": 44,
     "metadata": {},
     "output_type": "execute_result"
    }
   ],
   "source": [
    "customer"
   ]
  },
  {
   "cell_type": "code",
   "execution_count": 47,
   "metadata": {},
   "outputs": [
    {
     "name": "stdout",
     "output_type": "stream",
     "text": [
      "first name David\n",
      "Last name  Elliot\n",
      "address Wall Street\n",
      "age 17\n",
      "Phone Number +923328829273\n",
      "City LA\n"
     ]
    }
   ],
   "source": [
    "# Looping on dictionaries \n",
    "# By Default keys \n",
    "# customer.keys(),customer.items()\n",
    "for key,values in customer.items():\n",
    "    print(key,values)"
   ]
  },
  {
   "cell_type": "code",
   "execution_count": 49,
   "metadata": {},
   "outputs": [
    {
     "data": {
      "text/plain": [
       "{'first name': 'David',\n",
       " 'Last name ': 'Elliot',\n",
       " 'address': 'Wall Street',\n",
       " 'age': 17,\n",
       " 'Phone Number': '+923328829273',\n",
       " 'City': 'LA'}"
      ]
     },
     "execution_count": 49,
     "metadata": {},
     "output_type": "execute_result"
    }
   ],
   "source": [
    "customer"
   ]
  },
  {
   "cell_type": "code",
   "execution_count": 56,
   "metadata": {},
   "outputs": [],
   "source": [
    "list_of_dict = [\n",
    "   {'first name': 'David',\n",
    " 'Last name ': 'Elliot',\n",
    " 'address': 'Wall Street',\n",
    " 'age': 17,\n",
    " 'Phone Number': '+923328829273',\n",
    " 'City': 'LA'} ,\n",
    " {'first name': 'Hassan',\n",
    " 'Last name ': 'Khan',\n",
    " 'address': 'Wall Street',\n",
    " 'age': 17,\n",
    " 'Phone Number': '+923328829273',\n",
    " 'City': 'LA'},\n",
    " {'first name': 'Juice',\n",
    " 'Last name ': 'WRLD',\n",
    " 'address': 'Burns road',\n",
    " 'age': 17,\n",
    " 'Phone Number': '+923328829273',\n",
    " 'City': 'LA'}\n",
    "]"
   ]
  },
  {
   "cell_type": "code",
   "execution_count": 57,
   "metadata": {},
   "outputs": [
    {
     "data": {
      "text/plain": [
       "{'first name': 'David',\n",
       " 'Last name ': 'Elliot',\n",
       " 'address': 'Wall Street',\n",
       " 'age': 17,\n",
       " 'Phone Number': '+923328829273',\n",
       " 'City': 'LA'}"
      ]
     },
     "execution_count": 57,
     "metadata": {},
     "output_type": "execute_result"
    }
   ],
   "source": [
    "list_of_dict[0]"
   ]
  },
  {
   "cell_type": "code",
   "execution_count": 58,
   "metadata": {},
   "outputs": [
    {
     "data": {
      "text/plain": [
       "'Wall Street'"
      ]
     },
     "execution_count": 58,
     "metadata": {},
     "output_type": "execute_result"
    }
   ],
   "source": [
    "list_of_dict[0]['address']"
   ]
  },
  {
   "cell_type": "code",
   "execution_count": 59,
   "metadata": {},
   "outputs": [
    {
     "name": "stdout",
     "output_type": "stream",
     "text": [
      "Wall Street\n",
      "Wall Street\n",
      "Burns road\n"
     ]
    }
   ],
   "source": [
    "for i in range(len(list_of_dict)):\n",
    "    print(list_of_dict[i]['address'])"
   ]
  },
  {
   "cell_type": "code",
   "execution_count": null,
   "metadata": {},
   "outputs": [],
   "source": []
  }
 ],
 "metadata": {
  "kernelspec": {
   "display_name": "base",
   "language": "python",
   "name": "python3"
  },
  "language_info": {
   "codemirror_mode": {
    "name": "ipython",
    "version": 3
   },
   "file_extension": ".py",
   "mimetype": "text/x-python",
   "name": "python",
   "nbconvert_exporter": "python",
   "pygments_lexer": "ipython3",
   "version": "3.11.7"
  }
 },
 "nbformat": 4,
 "nbformat_minor": 2
}
